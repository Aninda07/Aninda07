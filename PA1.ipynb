{
  "nbformat": 4,
  "nbformat_minor": 0,
  "metadata": {
    "colab": {
      "name": "PA1.ipynb",
      "provenance": [],
      "collapsed_sections": [],
      "authorship_tag": "ABX9TyMBhjZdVllN6JMhrizA5dVB",
      "include_colab_link": true
    },
    "kernelspec": {
      "name": "python3",
      "display_name": "Python 3"
    },
    "language_info": {
      "name": "python"
    }
  },
  "cells": [
    {
      "cell_type": "markdown",
      "metadata": {
        "id": "view-in-github",
        "colab_type": "text"
      },
      "source": [
        "<a href=\"https://colab.research.google.com/github/Aninda07/Aninda07/blob/main/PA1.ipynb\" target=\"_parent\"><img src=\"https://colab.research.google.com/assets/colab-badge.svg\" alt=\"Open In Colab\"/></a>"
      ]
    },
    {
      "cell_type": "code",
      "metadata": {
        "id": "f-4bamevwwUa"
      },
      "source": [
        " \n",
        "import tensorflow as tf\n",
        "from tensorflow import keras\n",
        "from tensorflow.keras import layers\n",
        "from tensorflow.keras.datasets import mnist\n",
        " \n",
        "import os\n",
        "import random\n",
        "import numpy as np\n",
        "import matplotlib.pyplot as plt"
      ],
      "execution_count": null,
      "outputs": []
    },
    {
      "cell_type": "code",
      "metadata": {
        "id": "vf3TLF1ELH26"
      },
      "source": [
        ""
      ],
      "execution_count": null,
      "outputs": []
    },
    {
      "cell_type": "code",
      "metadata": {
        "colab": {
          "base_uri": "https://localhost:8080/"
        },
        "id": "kzwdQ8J5ypGm",
        "outputId": "76f49439-731d-442c-d36c-9b12a28f74ee"
      },
      "source": [
        " (X_train, Y_train), (X_test, Y_test) = mnist.load_data()\n",
        "print(X_train.shape, Y_train.shape)\n",
        "print(X_test.shape, Y_test.shape)"
      ],
      "execution_count": null,
      "outputs": [
        {
          "output_type": "stream",
          "text": [
            "(60000, 28, 28) (60000,)\n",
            "(10000, 28, 28) (10000,)\n"
          ],
          "name": "stdout"
        }
      ]
    },
    {
      "cell_type": "code",
      "metadata": {
        "id": "iexa2hyprJMP"
      },
      "source": [
        "X_train = X_train.reshape((X_train.shape[0], 28, 28, 1)).astype(\"float32\")/255\n",
        "X_test = X_test.reshape((X_test.shape[0], 28, 28, 1)).astype(\"float32\")/255"
      ],
      "execution_count": null,
      "outputs": []
    },
    {
      "cell_type": "code",
      "metadata": {
        "colab": {
          "base_uri": "https://localhost:8080/",
          "height": 282
        },
        "id": "c2DuVt1qz1zz",
        "outputId": "e9663a58-8031-4811-b300-dd647598a0d4"
      },
      "source": [
        " digit = 9 # Change to choose new digit\n",
        "a = X_train[digit].reshape(28,28)\n",
        "plt.imshow(a, cmap='gray_r')\n",
        "print(f\"Image (#{digit}): Which is digit '{Y_train[digit]}'\")"
      ],
      "execution_count": null,
      "outputs": [
        {
          "output_type": "stream",
          "text": [
            "Image (#9): Which is digit '4'\n"
          ],
          "name": "stdout"
        },
        {
          "output_type": "display_data",
          "data": {
            "image/png": "[encoded data removed]",
            "text/plain": [
              "<Figure size 432x288 with 1 Axes>"
            ]
          },
          "metadata": {
            "tags": [],
            "needs_background": "light"
          }
        }
      ]
    },
    {
      "cell_type": "code",
      "metadata": {
        "id": "m_WfYvHkBpmQ"
      },
      "source": [
        " \n",
        "from keras.models import Sequential\n",
        "from keras.layers import Conv2D\n",
        "from keras.layers import MaxPooling2D\n",
        "from keras.layers import Dense\n",
        "from keras.layers import Flatten"
      ],
      "execution_count": null,
      "outputs": []
    },
    {
      "cell_type": "code",
      "metadata": {
        "colab": {
          "base_uri": "https://localhost:8080/"
        },
        "id": "t3h44a0369HE",
        "outputId": "0241e1a4-ec3e-4661-d832-82016f980eb5"
      },
      "source": [
        " \n",
        "model = Sequential()\n",
        "model.add(Conv2D(32, (3, 3), activation='relu', kernel_initializer='he_uniform', input_shape=(28, 28, 1)))\n",
        "model.add(MaxPooling2D((2, 2)))\n",
        "model.add(Flatten())\n",
        "model.add(Dense(100, activation='relu', kernel_initializer='he_uniform'))\n",
        "model.add(Dense(10, activation='softmax'))\n",
        "# compile model \n",
        "model.summary()"
      ],
      "execution_count": null,
      "outputs": [
        {
          "output_type": "stream",
          "text": [
            "Model: \"sequential_7\"\n",
            "_________________________________________________________________\n",
            "Layer (type)                 Output Shape              Param #   \n",
            "=================================================================\n",
            "conv2d_6 (Conv2D)            (None, 26, 26, 32)        320       \n",
            "_________________________________________________________________\n",
            "max_pooling2d_6 (MaxPooling2 (None, 13, 13, 32)        0         \n",
            "_________________________________________________________________\n",
            "flatten_6 (Flatten)          (None, 5408)              0         \n",
            "_________________________________________________________________\n",
            "dense_12 (Dense)             (None, 100)               540900    \n",
            "_________________________________________________________________\n",
            "dense_13 (Dense)             (None, 10)                1010      \n",
            "=================================================================\n",
            "Total params: 542,230\n",
            "Trainable params: 542,230\n",
            "Non-trainable params: 0\n",
            "_________________________________________________________________\n"
          ],
          "name": "stdout"
        }
      ]
    },
    {
      "cell_type": "code",
      "metadata": {
        "id": "Nu_wkT4vjkp8"
      },
      "source": [
        " from keras.optimizers import SGD"
      ],
      "execution_count": null,
      "outputs": []
    },
    {
      "cell_type": "code",
      "metadata": {
        "colab": {
          "base_uri": "https://localhost:8080/"
        },
        "id": "boxCcCAfjv1L",
        "outputId": "3ae81b61-9a5d-4edb-b3fc-6b93302ca178"
      },
      "source": [
        "opt = SGD(lr=0.01, momentum=0.9)\n",
        "   \n",
        "model.compile(optimizer=opt, loss='sparse_categorical_crossentropy', metrics=['accuracy'])"
      ],
      "execution_count": null,
      "outputs": [
        {
          "output_type": "stream",
          "text": [
            "/usr/local/lib/python3.7/dist-packages/tensorflow/python/keras/optimizer_v2/optimizer_v2.py:375: UserWarning: The `lr` argument is deprecated, use `learning_rate` instead.\n",
            "  \"The `lr` argument is deprecated, use `learning_rate` instead.\")\n"
          ],
          "name": "stderr"
        }
      ]
    },
    {
      "cell_type": "code",
      "metadata": {
        "colab": {
          "base_uri": "https://localhost:8080/"
        },
        "id": "Zy90lHxbkwVw",
        "outputId": "a4389cce-7af2-4dc5-e66b-f8195da85ddc"
      },
      "source": [
        "h = model.fit(x=X_train, y=Y_train, epochs=3, batch_size=32, validation_split=0.2)"
      ],
      "execution_count": null,
      "outputs": [
        {
          "output_type": "stream",
          "text": [
            "Epoch 1/3\n",
            "1500/1500 [==============================] - 31s 20ms/step - loss: 0.3482 - accuracy: 0.8899 - val_loss: 0.0774 - val_accuracy: 0.9783\n",
            "Epoch 2/3\n",
            "1500/1500 [==============================] - 30s 20ms/step - loss: 0.0632 - accuracy: 0.9813 - val_loss: 0.0639 - val_accuracy: 0.9812\n",
            "Epoch 3/3\n",
            "1500/1500 [==============================] - 30s 20ms/step - loss: 0.0418 - accuracy: 0.9876 - val_loss: 0.0538 - val_accuracy: 0.9846\n"
          ],
          "name": "stdout"
        }
      ]
    }
  ]
}